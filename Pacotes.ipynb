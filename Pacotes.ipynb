{
  "nbformat": 4,
  "nbformat_minor": 0,
  "metadata": {
    "colab": {
      "provenance": [],
      "collapsed_sections": [],
      "authorship_tag": "ABX9TyOpihb1naFjSoSKNnOFMR4y",
      "include_colab_link": true
    },
    "kernelspec": {
      "name": "python3",
      "display_name": "Python 3"
    },
    "language_info": {
      "name": "python"
    }
  },
  "cells": [
    {
      "cell_type": "markdown",
      "metadata": {
        "id": "view-in-github",
        "colab_type": "text"
      },
      "source": [
        "<a href=\"https://colab.research.google.com/github/RiosJV/Estudos/blob/main/Pacotes.ipynb\" target=\"_parent\"><img src=\"https://colab.research.google.com/assets/colab-badge.svg\" alt=\"Open In Colab\"/></a>"
      ]
    },
    {
      "cell_type": "code",
      "execution_count": null,
      "metadata": {
        "colab": {
          "base_uri": "https://localhost:8080/"
        },
        "id": "FYI-PQDIOh-g",
        "outputId": "2db95f0e-23e3-47b4-9c9d-5b3607b6e077"
      },
      "outputs": [
        {
          "output_type": "stream",
          "name": "stdout",
          "text": [
            "7\n",
            "5040\n"
          ]
        }
      ],
      "source": [
        "import math\n",
        "\n",
        "print(math.ceil(6.85))\n",
        "print(math.factorial(7))"
      ]
    },
    {
      "cell_type": "code",
      "source": [
        "import math as mt\n",
        "\n",
        "mt.exp(4)"
      ],
      "metadata": {
        "colab": {
          "base_uri": "https://localhost:8080/"
        },
        "id": "pIEvZPKuPhwW",
        "outputId": "a4e60a9d-1e26-4a89-8e82-8463f87faa19"
      },
      "execution_count": null,
      "outputs": [
        {
          "output_type": "execute_result",
          "data": {
            "text/plain": [
              "54.598150033144236"
            ]
          },
          "metadata": {},
          "execution_count": 6
        }
      ]
    },
    {
      "cell_type": "code",
      "source": [
        "from math import log, e\n",
        "\n",
        "math.log(e)\n",
        "math.log(e, e)  #numero, base \n",
        "\n"
      ],
      "metadata": {
        "colab": {
          "base_uri": "https://localhost:8080/"
        },
        "id": "VCTFZdVlP8fX",
        "outputId": "334fa919-7a76-464f-b15a-3339ff12a018"
      },
      "execution_count": null,
      "outputs": [
        {
          "output_type": "execute_result",
          "data": {
            "text/plain": [
              "1.0"
            ]
          },
          "metadata": {},
          "execution_count": 11
        }
      ]
    },
    {
      "cell_type": "code",
      "source": [
        "from os.path import join\n",
        "\n",
        "\"-\".join([\"a\",\"b\"])"
      ],
      "metadata": {
        "colab": {
          "base_uri": "https://localhost:8080/",
          "height": 35
        },
        "id": "qCo3Y4I9QioV",
        "outputId": "fc5f4280-2155-42c8-88d4-c82894af324a"
      },
      "execution_count": null,
      "outputs": [
        {
          "output_type": "execute_result",
          "data": {
            "text/plain": [
              "'a-b'"
            ],
            "application/vnd.google.colaboratory.intrinsic+json": {
              "type": "string"
            }
          },
          "metadata": {},
          "execution_count": 13
        }
      ]
    },
    {
      "cell_type": "code",
      "source": [
        "#NÃO USAR\n",
        "\n",
        "from math import *\n",
        "\n",
        "#COM ISSO VOCÊ IMPORTA TUDO SEM PRECISAR ESCREVER O NOME DO MODULO ANTES DE USAR\n",
        "\n",
        "factorial(5)\n"
      ],
      "metadata": {
        "colab": {
          "base_uri": "https://localhost:8080/"
        },
        "id": "xotx9Xr_R34K",
        "outputId": "95ba3ea3-0cf4-453a-f219-e51b91053748"
      },
      "execution_count": null,
      "outputs": [
        {
          "output_type": "execute_result",
          "data": {
            "text/plain": [
              "120"
            ]
          },
          "metadata": {},
          "execution_count": 14
        }
      ]
    },
    {
      "cell_type": "code",
      "source": [
        "import random\n",
        "print(random.seed(0)) #Define um ponto de partida e sempre será gerado a mesma escolha \"ALEATÓRIA\"\n",
        "print(random.randint(1,6))\n",
        "print(random.choice([0,10,11,15,84,84,55,99,6]))\n",
        "\n",
        "\n",
        "lista = [0,10,11,15,84,84,55,99,6]"
      ],
      "metadata": {
        "colab": {
          "base_uri": "https://localhost:8080/"
        },
        "id": "cCS9LaEfTU63",
        "outputId": "2c50b9eb-4b20-4ffd-e916-f681f299258f"
      },
      "execution_count": null,
      "outputs": [
        {
          "output_type": "stream",
          "name": "stdout",
          "text": [
            "None\n",
            "4\n",
            "55\n"
          ]
        }
      ]
    },
    {
      "cell_type": "code",
      "source": [
        "print(random.choices(lista, k=3))"
      ],
      "metadata": {
        "colab": {
          "base_uri": "https://localhost:8080/"
        },
        "id": "_8rGqKwRVOPt",
        "outputId": "c48f7e80-dc58-4a4a-981e-bf404bc0287a"
      },
      "execution_count": null,
      "outputs": [
        {
          "output_type": "stream",
          "name": "stdout",
          "text": [
            "[6, 99, 6]\n"
          ]
        }
      ]
    },
    {
      "cell_type": "code",
      "source": [
        "random.shuffle(lista)\n",
        "print(lista)"
      ],
      "metadata": {
        "colab": {
          "base_uri": "https://localhost:8080/"
        },
        "id": "k2pNtLtJVYfz",
        "outputId": "1d4a02b4-ccfb-44f7-de41-fda5e2594852"
      },
      "execution_count": null,
      "outputs": [
        {
          "output_type": "stream",
          "name": "stdout",
          "text": [
            "[55, 99, 0, 6, 11, 10, 84, 15, 84]\n"
          ]
        }
      ]
    },
    {
      "cell_type": "code",
      "source": [
        "\"\"\"Utilizando o pacote random, faça um programa que simule um lançamento de dados.\n",
        "Lance o dado 100 vezes e armazene os resultados em um vetor. Depois, mostre quantas \n",
        "vezes cada valor foi conseguido. Dica: use um vetor de contadores (1-6) e uma função \n",
        "para gerar números aleatórios, simulando os lançamentos dos dados.\"\"\"\n",
        "\n",
        "import random\n",
        "\n",
        "recebeDados = []\n",
        "\n",
        "for _ in range (100):\n",
        "  recebeDados.append(random.randint(1,6))\n",
        "print(recebeDados)\n",
        "\n",
        "x = 1\n",
        "while x < 7:\n",
        "  print(x, \"aparece\", recebeDados.count(x), \"vezes.\")\n",
        "  x += 1\n",
        "\n",
        "\n",
        "for inicio in range(0, 100, 10):\n",
        "  print(recebeDados[inicio:inicio + 10])\n"
      ],
      "metadata": {
        "colab": {
          "base_uri": "https://localhost:8080/"
        },
        "id": "3Ny8gBW6Vffl",
        "outputId": "b3bafe2c-2d77-4883-aa29-88abf27bde37"
      },
      "execution_count": null,
      "outputs": [
        {
          "output_type": "stream",
          "name": "stdout",
          "text": [
            "[6, 1, 6, 6, 2, 3, 4, 1, 5, 4, 4, 4, 1, 1, 4, 2, 1, 1, 5, 5, 2, 6, 3, 1, 6, 5, 6, 3, 2, 4, 4, 1, 1, 5, 6, 4, 5, 6, 3, 6, 1, 6, 6, 5, 3, 2, 4, 3, 6, 6, 1, 5, 2, 1, 4, 4, 3, 2, 4, 3, 6, 1, 1, 1, 4, 3, 1, 5, 6, 5, 5, 2, 2, 1, 6, 5, 6, 5, 4, 5, 3, 1, 2, 4, 5, 4, 1, 1, 4, 1, 1, 4, 2, 6, 1, 4, 4, 6, 4, 1]\n",
            "1 aparece 24 vezes.\n",
            "2 aparece 11 vezes.\n",
            "3 aparece 10 vezes.\n",
            "4 aparece 21 vezes.\n",
            "5 aparece 15 vezes.\n",
            "6 aparece 19 vezes.\n",
            "[6, 1, 6, 6, 2, 3, 4, 1, 5, 4]\n",
            "[4, 4, 1, 1, 4, 2, 1, 1, 5, 5]\n",
            "[2, 6, 3, 1, 6, 5, 6, 3, 2, 4]\n",
            "[4, 1, 1, 5, 6, 4, 5, 6, 3, 6]\n",
            "[1, 6, 6, 5, 3, 2, 4, 3, 6, 6]\n",
            "[1, 5, 2, 1, 4, 4, 3, 2, 4, 3]\n",
            "[6, 1, 1, 1, 4, 3, 1, 5, 6, 5]\n",
            "[5, 2, 2, 1, 6, 5, 6, 5, 4, 5]\n",
            "[3, 1, 2, 4, 5, 4, 1, 1, 4, 1]\n",
            "[1, 4, 2, 6, 1, 4, 4, 6, 4, 1]\n"
          ]
        }
      ]
    },
    {
      "cell_type": "code",
      "source": [
        "\"\"\"Utilizando o pacote random, construa uma função que receba uma string como \n",
        "parâmetro e devolva outra string com os carateres embaralhados. Por exemplo: se \n",
        "função receber a palavra python, pode retornar npthyo, ophtyn ou qualquer outra \n",
        "combinação possível, de forma aleatória. Padronize em sua função que todos os \n",
        "caracteres serão devolvidos em caixa alta ou caixa baixa, independentemente de \n",
        "como foram digitados.\"\"\"\n",
        "\n",
        "import random\n",
        "\n",
        "def randomizador(palavra):\n",
        "  lista = [carac for carac in palavra]\n",
        "  random.shuffle(lista)\n",
        "  print(\"\\n\".join(lista))\n",
        "  return \"\".join(lista)\n",
        "\n",
        "\n",
        "\n",
        "randomizador(\"onomatopeia\")"
      ],
      "metadata": {
        "colab": {
          "base_uri": "https://localhost:8080/",
          "height": 226
        },
        "id": "r7rvledBb5pa",
        "outputId": "8e65d956-ac0e-4828-da6e-e5e284f4ea5b"
      },
      "execution_count": null,
      "outputs": [
        {
          "output_type": "stream",
          "name": "stdout",
          "text": [
            "o\n",
            "p\n",
            "m\n",
            "o\n",
            "e\n",
            "n\n",
            "i\n",
            "a\n",
            "t\n",
            "a\n",
            "o\n"
          ]
        },
        {
          "output_type": "execute_result",
          "data": {
            "text/plain": [
              "'opmoeniatao'"
            ],
            "application/vnd.google.colaboratory.intrinsic+json": {
              "type": "string"
            }
          },
          "metadata": {},
          "execution_count": 58
        }
      ]
    },
    {
      "cell_type": "code",
      "source": [],
      "metadata": {
        "id": "DUQSJYIOgjDc"
      },
      "execution_count": null,
      "outputs": []
    }
  ]
}