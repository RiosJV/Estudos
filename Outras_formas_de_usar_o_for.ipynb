{
  "nbformat": 4,
  "nbformat_minor": 0,
  "metadata": {
    "colab": {
      "provenance": [],
      "collapsed_sections": [],
      "authorship_tag": "ABX9TyOz6Mk7gx6/ErnDRtsAyncH",
      "include_colab_link": true
    },
    "kernelspec": {
      "name": "python3",
      "display_name": "Python 3"
    },
    "language_info": {
      "name": "python"
    }
  },
  "cells": [
    {
      "cell_type": "markdown",
      "metadata": {
        "id": "view-in-github",
        "colab_type": "text"
      },
      "source": [
        "<a href=\"https://colab.research.google.com/github/RiosJV/Estudos/blob/main/Outras_formas_de_usar_o_for.ipynb\" target=\"_parent\"><img src=\"https://colab.research.google.com/assets/colab-badge.svg\" alt=\"Open In Colab\"/></a>"
      ]
    },
    {
      "cell_type": "code",
      "execution_count": null,
      "metadata": {
        "colab": {
          "base_uri": "https://localhost:8080/"
        },
        "id": "vtv0F6_1yEV4",
        "outputId": "e12b5e94-477e-49b9-bfba-2c41ac7f5c24"
      },
      "outputs": [
        {
          "output_type": "stream",
          "name": "stdout",
          "text": [
            "1\n",
            "2\n",
            "3\n",
            "4\n"
          ]
        }
      ],
      "source": [
        "lista = [1, 2, 3, 4]\n",
        "\n",
        "for num in lista:\n",
        "  print (num)"
      ]
    },
    {
      "cell_type": "code",
      "source": [
        "for indice, num in enumerate(lista):\n",
        "  print(indice, num, sep=\" - \")"
      ],
      "metadata": {
        "colab": {
          "base_uri": "https://localhost:8080/"
        },
        "id": "4g4QdnrGyPTd",
        "outputId": "c2540493-3b06-4629-94f8-6e3d8dd536d9"
      },
      "execution_count": null,
      "outputs": [
        {
          "output_type": "stream",
          "name": "stdout",
          "text": [
            "0 - 1\n",
            "1 - 2\n",
            "2 - 3\n",
            "3 - 4\n"
          ]
        }
      ]
    },
    {
      "cell_type": "code",
      "source": [
        "#Tuplas e Dicionários"
      ],
      "metadata": {
        "id": "AlVZjMT-yPYP"
      },
      "execution_count": null,
      "outputs": []
    }
  ]
}