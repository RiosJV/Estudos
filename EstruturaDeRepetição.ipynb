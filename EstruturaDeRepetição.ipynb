{
  "nbformat": 4,
  "nbformat_minor": 0,
  "metadata": {
    "colab": {
      "provenance": [],
      "collapsed_sections": [],
      "authorship_tag": "ABX9TyOUMHo1M2ormdB7QcSJuTq9",
      "include_colab_link": true
    },
    "kernelspec": {
      "name": "python3",
      "display_name": "Python 3"
    },
    "language_info": {
      "name": "python"
    }
  },
  "cells": [
    {
      "cell_type": "markdown",
      "metadata": {
        "id": "view-in-github",
        "colab_type": "text"
      },
      "source": [
        "<a href=\"https://colab.research.google.com/github/RiosJV/Estudos/blob/main/EstruturaDeRepeti%C3%A7%C3%A3o.ipynb\" target=\"_parent\"><img src=\"https://colab.research.google.com/assets/colab-badge.svg\" alt=\"Open In Colab\"/></a>"
      ]
    },
    {
      "cell_type": "code",
      "execution_count": null,
      "metadata": {
        "colab": {
          "base_uri": "https://localhost:8080/"
        },
        "id": "28CzMvLTJA-v",
        "outputId": "715ca6bd-07f1-4fb5-cd61-cc2811db2469"
      },
      "outputs": [
        {
          "output_type": "stream",
          "name": "stdout",
          "text": [
            "1\n",
            "2\n",
            "3\n",
            "4\n",
            "5\n",
            "6\n",
            "7\n",
            "8\n",
            "9\n",
            "10\n",
            "terminou a contagem\n"
          ]
        }
      ],
      "source": [
        "count = 1\n",
        "\n",
        "while count <= 10:\n",
        "  print (count);\n",
        "  count += 1 #count = count + 1\n",
        "print (\"terminou a contagem\")\n"
      ]
    },
    {
      "cell_type": "code",
      "source": [
        "while True:\n",
        "  resp = input(\"Digite S para continuar: \")\n",
        "  if resp.upper() != \"S\":\n",
        "    break\n",
        "\n",
        "print(\"Encerrando...\")\n"
      ],
      "metadata": {
        "colab": {
          "base_uri": "https://localhost:8080/"
        },
        "id": "_EheZjOBLSuv",
        "outputId": "06c46829-43ad-46fd-8463-29b82d3a8891"
      },
      "execution_count": null,
      "outputs": [
        {
          "output_type": "stream",
          "name": "stdout",
          "text": [
            "Digite S para continuar: 3\n",
            "Encerrando...\n"
          ]
        }
      ]
    },
    {
      "cell_type": "code",
      "source": [
        "\"\"\"Elaborar uma função conta_pares(min, max) \n",
        "para exibir todos os valores entre min e max, \n",
        "com um incremento de 2, separando-os com um\n",
        "hífen. Ex.: 2 – 4 – 6 – 8 – 10 – 12 – 14.\"\"\"\n",
        "\n",
        "\n",
        "\n",
        "def contaPares (min, max):\n",
        "  if min % 2 == 1:\n",
        "    min += 1\n",
        "  if max % 2 ==1:\n",
        "    max -= 1\n",
        "\n",
        "  while min < max:\n",
        "    #O parametro end troca a quebra de linha usual por algo determinado.\n",
        "    print (min, end = \" - \")\n",
        "    min += 2\n",
        "  print (min)\n",
        "  \n",
        "contaPares(2,14) \n",
        "\n",
        "contaPares(3,17) \n",
        "  \n",
        "\n"
      ],
      "metadata": {
        "colab": {
          "base_uri": "https://localhost:8080/"
        },
        "id": "gJ5pMgHMNOsg",
        "outputId": "7d4b06be-4ea8-4696-fdd7-c1812f9bfe67"
      },
      "execution_count": null,
      "outputs": [
        {
          "output_type": "stream",
          "name": "stdout",
          "text": [
            "2 - 4 - 6 - 8 - 10 - 12 - 14\n",
            "4 - 6 - 8 - 10 - 12 - 14 - 16\n"
          ]
        }
      ]
    },
    {
      "cell_type": "code",
      "source": [
        "\"\"\"Faça um programa que peça um nome de usuário e a sua senha, \n",
        "exiba uma mensagem de erro e retorne False caso os dois valores\n",
        "sejam iguais e retorne True caso sejam valores diferentes. \n",
        "O programa deve continuar pedindo uma nova senha até que o valor seja válido.\"\"\"\n",
        "\n",
        "def testaSenha(usuario, senha):\n",
        "  return usuario != senha\n",
        "\n",
        "def login():\n",
        "  usuario = input(\"Digite seu usuário: \")\n",
        "  senha = input(\"Digite sua senha: \")\n",
        "\n",
        "  while not testaSenha(usuario, senha):\n",
        "    print(\"Senha inválida!\")\n",
        "    senha = input(\"Informe sua nova senha: \")\n",
        "\n",
        "login()"
      ],
      "metadata": {
        "colab": {
          "base_uri": "https://localhost:8080/"
        },
        "id": "nMwayzBLTBhB",
        "outputId": "e056dbea-8cb7-4336-d771-c4cabfa32ae4"
      },
      "execution_count": null,
      "outputs": [
        {
          "name": "stdout",
          "output_type": "stream",
          "text": [
            "Digite seu usuário: 123\n",
            "Digite sua senha: 123\n",
            "Senha inválida!\n",
            "Informe sua nova senha: 1\n"
          ]
        }
      ]
    }
  ]
}