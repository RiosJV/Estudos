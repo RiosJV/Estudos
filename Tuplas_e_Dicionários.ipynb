{
  "nbformat": 4,
  "nbformat_minor": 0,
  "metadata": {
    "colab": {
      "provenance": [],
      "collapsed_sections": [],
      "authorship_tag": "ABX9TyNVspox0W6U5gYcSyMhreiA",
      "include_colab_link": true
    },
    "kernelspec": {
      "name": "python3",
      "display_name": "Python 3"
    },
    "language_info": {
      "name": "python"
    }
  },
  "cells": [
    {
      "cell_type": "markdown",
      "metadata": {
        "id": "view-in-github",
        "colab_type": "text"
      },
      "source": [
        "<a href=\"https://colab.research.google.com/github/RiosJV/Estudos/blob/main/Tuplas_e_Dicion%C3%A1rios.ipynb\" target=\"_parent\"><img src=\"https://colab.research.google.com/assets/colab-badge.svg\" alt=\"Open In Colab\"/></a>"
      ]
    },
    {
      "cell_type": "code",
      "execution_count": null,
      "metadata": {
        "colab": {
          "base_uri": "https://localhost:8080/"
        },
        "id": "q2YdiWYWy6xP",
        "outputId": "d7d0de39-c671-42b0-bc88-f8491f159001"
      },
      "outputs": [
        {
          "output_type": "stream",
          "name": "stdout",
          "text": [
            "[1, 2, 8, 4]\n"
          ]
        }
      ],
      "source": [
        "lista = [1, 2, 3, 4]\n",
        "lista [2] = 8 \n",
        "print(lista)"
      ]
    },
    {
      "cell_type": "code",
      "source": [
        "tupla = (1, 2, 3, 4)\n",
        "print(tupla)"
      ],
      "metadata": {
        "colab": {
          "base_uri": "https://localhost:8080/"
        },
        "id": "GfDt930AzRIR",
        "outputId": "5eaa96fd-2cd1-4e8b-807b-c7855306b821"
      },
      "execution_count": null,
      "outputs": [
        {
          "output_type": "stream",
          "name": "stdout",
          "text": [
            "(1, 2, 3, 4)\n"
          ]
        }
      ]
    },
    {
      "cell_type": "code",
      "source": [
        "def calcula_coordenadas(cidade):\n",
        "  coordx = 1\n",
        "  coordy = 2\n",
        "\n",
        "  return coordx, coordy\n",
        "  "
      ],
      "metadata": {
        "id": "MlWqQAQAzaAi"
      },
      "execution_count": null,
      "outputs": []
    },
    {
      "cell_type": "code",
      "source": [
        "print(tupla[1:3])"
      ],
      "metadata": {
        "colab": {
          "base_uri": "https://localhost:8080/"
        },
        "id": "nZUEqbYVz2wS",
        "outputId": "773e6095-cc86-42ef-a150-34ab0ce9ea0f"
      },
      "execution_count": null,
      "outputs": [
        {
          "output_type": "stream",
          "name": "stdout",
          "text": [
            "(2, 3)\n"
          ]
        }
      ]
    },
    {
      "cell_type": "code",
      "source": [
        "lista.insert(3,0) #insert(indice, valor) (EM LISTAS)"
      ],
      "metadata": {
        "id": "pFHN7LB_0J8w"
      },
      "execution_count": null,
      "outputs": []
    },
    {
      "cell_type": "code",
      "source": [
        "#Dicionários\n",
        "\n",
        "#Nao sao ordenados\n",
        "\n",
        "\n",
        "\"\"\"\n",
        "alunos = [\n",
        "    [\"Nome\", idade, curso, cidade],\n",
        "    [\"Nome\", idade, curso, cidade],\n",
        "    [\"Nome\", idade, curso, cidade]\n",
        "]\n",
        "\"\"\"\n",
        "aluno = {\n",
        "    \"Nome\": \"Joao\",\n",
        "    \"Idade\": 22,\n",
        "    \"Curso\": \"Administracao\",\n",
        "    \"Cidade\": \"Rio de Janeiro\"\n",
        "}\n",
        "\n",
        "\n",
        "alunos = [\n",
        "    aluno, \n",
        "    {\n",
        "        \"Nome\": \"Joao\",\n",
        "        \"Idade\": 22,\n",
        "        \"Curso\": \"Administracao\",\n",
        "        \"Cidade\": \"Rio de Janeiro\"\n",
        "    }\n",
        "]\n",
        "print(pessoa[\"Nome\"])\n",
        "\n",
        "for pessoa in alunos:\n",
        "  print(pessoa[\"Nome\"])\n",
        "\n",
        "aluno\n"
      ],
      "metadata": {
        "colab": {
          "base_uri": "https://localhost:8080/"
        },
        "id": "jiS_g1HM0ROm",
        "outputId": "a4404c8d-71a6-4d14-fe8a-598077521a85"
      },
      "execution_count": null,
      "outputs": [
        {
          "output_type": "stream",
          "name": "stdout",
          "text": [
            "Joao\n",
            "Joao\n",
            "Joao\n"
          ]
        },
        {
          "output_type": "execute_result",
          "data": {
            "text/plain": [
              "{'Nome': 'Joao',\n",
              " 'Idade': 22,\n",
              " 'Curso': 'Administracao',\n",
              " 'Cidade': 'Rio de Janeiro'}"
            ]
          },
          "metadata": {},
          "execution_count": 13
        }
      ]
    },
    {
      "cell_type": "code",
      "source": [
        "turma = {\n",
        "    \"1\" : {\n",
        "        \"nome\": \"Joao\",\n",
        "        \"idade\": 22\n",
        "    }, \n",
        "    \"2\" : {\n",
        "        \"nome\": \"fulano\",\n",
        "        \"idade\": 10\n",
        "    }\n",
        "}\n",
        "\n",
        "#for <variavel> in <dicionario>: -> retorna as chaves\n",
        "for matricula in turma:\n",
        "  print(matricula)\n",
        "  print(turma[matricula])\n"
      ],
      "metadata": {
        "colab": {
          "base_uri": "https://localhost:8080/"
        },
        "id": "j7D8UVgr3ppe",
        "outputId": "f93ee7e8-f5cd-4ebc-ef2f-51d7ee433dd1"
      },
      "execution_count": null,
      "outputs": [
        {
          "output_type": "stream",
          "name": "stdout",
          "text": [
            "1\n",
            "{'nome': 'Joao', 'idade': 22}\n",
            "2\n",
            "{'nome': 'fulano', 'idade': 10}\n"
          ]
        }
      ]
    },
    {
      "cell_type": "code",
      "source": [
        "mat = input (\"Informe a matricula do aluno: \")\n",
        "for matricula in turma:\n",
        "  if mat == matricula:\n",
        "    print(turma[mat])\n",
        "    break\n",
        "else:# executa apenas se nao passou por um break\n",
        "  print(\"Nao foram encontradas matriculas iguais a\", mat)"
      ],
      "metadata": {
        "colab": {
          "base_uri": "https://localhost:8080/"
        },
        "id": "9q6WBEXJ4tMt",
        "outputId": "7cd31af7-500c-4b1d-ea59-8a94a1b64cac"
      },
      "execution_count": null,
      "outputs": [
        {
          "output_type": "stream",
          "name": "stdout",
          "text": [
            "Informe a matricula do aluno: 3\n",
            "Nao foram encontradas matriculas iguais a 3\n"
          ]
        }
      ]
    },
    {
      "cell_type": "code",
      "source": [
        "# for <variavel_chave>, variavel_valor in <dicionario.items():\n",
        "\n",
        "for matricula, aluno in turma.items():\n",
        "  print(matricula, aluno)"
      ],
      "metadata": {
        "colab": {
          "base_uri": "https://localhost:8080/"
        },
        "id": "YdyI8Qj25VgZ",
        "outputId": "51a33f0f-60d5-4261-d686-511032cf1c01"
      },
      "execution_count": null,
      "outputs": [
        {
          "output_type": "stream",
          "name": "stdout",
          "text": [
            "1 {'nome': 'Joao', 'idade': 22}\n",
            "2 {'nome': 'fulano', 'idade': 10}\n"
          ]
        }
      ]
    },
    {
      "cell_type": "code",
      "source": [
        "for aluno in turma.values(): #percorre apenas valores em um dicionario\n",
        "  print(aluno[\"nome\"])"
      ],
      "metadata": {
        "colab": {
          "base_uri": "https://localhost:8080/"
        },
        "id": "6qEazW9J6lLN",
        "outputId": "30512552-f571-4f1f-a962-992d3ecdb9d9"
      },
      "execution_count": null,
      "outputs": [
        {
          "output_type": "stream",
          "name": "stdout",
          "text": [
            "Joao\n",
            "fulano\n"
          ]
        }
      ]
    },
    {
      "cell_type": "code",
      "source": [
        "lista = [1 , 2, 3, 4, 5, 6, 7, 8 ,9, 10]\n",
        "par = []\n",
        "impar = []\n",
        "\n",
        "\n",
        "for num in lista:\n",
        "  if num % 2 == 0:\n",
        "    par.append(num)\n",
        "  else:\n",
        "    impar.append(num)\n",
        "\n",
        "print(lista, par, impar)    "
      ],
      "metadata": {
        "colab": {
          "base_uri": "https://localhost:8080/"
        },
        "id": "jLsva43L96nh",
        "outputId": "1909aa29-2ab7-4c42-ef38-f4051450dab1"
      },
      "execution_count": null,
      "outputs": [
        {
          "output_type": "stream",
          "name": "stdout",
          "text": [
            "[1, 2, 3, 4, 5, 6, 7, 8, 9, 10] [2, 4, 6, 8, 10] [1, 3, 5, 7, 9]\n"
          ]
        }
      ]
    },
    {
      "cell_type": "code",
      "source": [
        "\"\"\"Faça um programa que leia as idades e alturas de N alunos do ensino fundamental \n",
        "(N é um número fornecido pelo usuário) e determine quantos alunos com mais de 13\n",
        " anos possuem altura inferior à média de altura desses alunos.\"\"\"\n",
        "\n",
        "\n",
        "def alturas():\n",
        "  alunos = []\n",
        "  total_alunos = int(input(\"Informe o total de alunos: \"))\n",
        "  med_altura = 0\n",
        "  for _ in range(total_alunos):\n",
        "    ida = int(input(\"Informe a idade: \"))\n",
        "    alt = float(input(\"Informe a altura em cm: \"))\n",
        "    alunos.append({\"Idade\": ida, \"Altura\":alt})\n",
        "    med_altura += alt\n",
        "  med_altura /= total_alunos\n",
        "  \n",
        "  baixinhos = 0\n",
        "  for aluno in alunos:\n",
        "    if aluno [\"Idade\"] > 13 and aluno [\"Altura\"] < med_altura:\n",
        "      baixinhos += 1\n",
        "  print(baixinhos)\n",
        "  \n",
        "alturas()\n",
        "\n"
      ],
      "metadata": {
        "colab": {
          "base_uri": "https://localhost:8080/"
        },
        "id": "A7CmcYbjBHq0",
        "outputId": "43e2a9df-0ed9-4e23-ef46-2c2a2bb6ab10"
      },
      "execution_count": null,
      "outputs": [
        {
          "output_type": "stream",
          "name": "stdout",
          "text": [
            "Informe o total de alunos: 2\n",
            "Informe a idade: 1\n",
            "Informe a altura em cm: 21\n",
            "Informe a idade: 2\n",
            "Informe a altura em cm: 10\n",
            "0\n"
          ]
        }
      ]
    }
  ]
}